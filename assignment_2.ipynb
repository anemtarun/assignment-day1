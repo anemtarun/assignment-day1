{
  "nbformat": 4,
  "nbformat_minor": 0,
  "metadata": {
    "colab": {
      "name": "assignment 2.ipynb",
      "provenance": [],
      "authorship_tag": "ABX9TyN8RWo88x85lfGNo/sDrtAe",
      "include_colab_link": true
    },
    "kernelspec": {
      "name": "python3",
      "display_name": "Python 3"
    },
    "language_info": {
      "name": "python"
    }
  },
  "cells": [
    {
      "cell_type": "markdown",
      "metadata": {
        "id": "view-in-github",
        "colab_type": "text"
      },
      "source": [
        "<a href=\"https://colab.research.google.com/github/anemtarun/assignment-day1/blob/main/assignment_2.ipynb\" target=\"_parent\"><img src=\"https://colab.research.google.com/assets/colab-badge.svg\" alt=\"Open In Colab\"/></a>"
      ]
    },
    {
      "cell_type": "code",
      "metadata": {
        "id": "7U6M1BW-pTsy"
      },
      "source": [
        "import numpy as np"
      ],
      "execution_count": null,
      "outputs": []
    },
    {
      "cell_type": "code",
      "metadata": {
        "colab": {
          "base_uri": "https://localhost:8080/"
        },
        "id": "siVE8zccp4WK",
        "outputId": "4622e294-4600-4d33-fc6a-e347d3fbce5c"
      },
      "source": [
        "list1 = [1,2,3,4,5]\n",
        "list2 = [2,3,4,5,6]\n",
        "list3 = [4,5,6,7,8]\n",
        "\n",
        "arr1 =np.array([list1,list2,list3])\n",
        "arr1"
      ],
      "execution_count": null,
      "outputs": [
        {
          "output_type": "execute_result",
          "data": {
            "text/plain": [
              "array([[1, 2, 3, 4, 5],\n",
              "       [2, 3, 4, 5, 6],\n",
              "       [4, 5, 6, 7, 8]])"
            ]
          },
          "metadata": {},
          "execution_count": 2
        }
      ]
    },
    {
      "cell_type": "code",
      "metadata": {
        "colab": {
          "base_uri": "https://localhost:8080/"
        },
        "id": "wFDGr8t_qoQH",
        "outputId": "824c9605-97d2-4d7f-88a2-423fac8d085b"
      },
      "source": [
        "#FROM THE ABOVE ARRAY, RETRIVE THE VALUES([[3,4],[5,6]]) USING INDEXING\n",
        "\n",
        "arr1[1:3,1:3]\n",
        "\n"
      ],
      "execution_count": null,
      "outputs": [
        {
          "output_type": "execute_result",
          "data": {
            "text/plain": [
              "array([[3, 4],\n",
              "       [5, 6]])"
            ]
          },
          "metadata": {},
          "execution_count": 3
        }
      ]
    },
    {
      "cell_type": "code",
      "metadata": {
        "id": "r5SCb3eNrW-F"
      },
      "source": [
        ""
      ],
      "execution_count": null,
      "outputs": []
    }
  ]
}