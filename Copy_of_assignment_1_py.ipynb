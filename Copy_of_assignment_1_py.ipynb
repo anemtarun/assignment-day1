{
  "nbformat": 4,
  "nbformat_minor": 0,
  "metadata": {
    "colab": {
      "name": "Copy of assignment 1.py",
      "provenance": [],
      "collapsed_sections": [],
      "mount_file_id": "1AJLyv_J5d80iKVivq_vUtrEOccDSO8Ad",
      "authorship_tag": "ABX9TyNzf2l82dU+TRH7wZZMWrgi",
      "include_colab_link": true
    },
    "kernelspec": {
      "name": "python3",
      "display_name": "Python 3"
    },
    "language_info": {
      "name": "python"
    }
  },
  "cells": [
    {
      "cell_type": "markdown",
      "metadata": {
        "id": "view-in-github",
        "colab_type": "text"
      },
      "source": [
        "<a href=\"https://colab.research.google.com/github/anemtarun/assignment-day1/blob/main/Copy_of_assignment_1_py.ipynb\" target=\"_parent\"><img src=\"https://colab.research.google.com/assets/colab-badge.svg\" alt=\"Open In Colab\"/></a>"
      ]
    },
    {
      "cell_type": "code",
      "metadata": {
        "id": "p7TvqoRPzDF_",
        "colab": {
          "base_uri": "https://localhost:8080/"
        },
        "outputId": "69b67f67-1c91-4a77-8886-044496c9f386"
      },
      "source": [
        "a=10\n",
        "b=20\n",
        "print(a*b)"
      ],
      "execution_count": null,
      "outputs": [
        {
          "output_type": "stream",
          "name": "stdout",
          "text": [
            "200\n"
          ]
        }
      ]
    },
    {
      "cell_type": "code",
      "metadata": {
        "colab": {
          "base_uri": "https://localhost:8080/"
        },
        "id": "L12_vxae8hGv",
        "outputId": "a923bb6f-9317-49ad-ccd2-172efef20768"
      },
      "source": [
        "print(a/b)"
      ],
      "execution_count": null,
      "outputs": [
        {
          "output_type": "stream",
          "name": "stdout",
          "text": [
            "0.5\n"
          ]
        }
      ]
    },
    {
      "cell_type": "code",
      "metadata": {
        "colab": {
          "base_uri": "https://localhost:8080/"
        },
        "id": "Nu0wYz2I8pRn",
        "outputId": "65ba8c7c-e9b1-4cbc-9d9f-e63c919e31ae"
      },
      "source": [
        "print(a%b)"
      ],
      "execution_count": null,
      "outputs": [
        {
          "output_type": "stream",
          "name": "stdout",
          "text": [
            "10\n"
          ]
        }
      ]
    },
    {
      "cell_type": "code",
      "metadata": {
        "colab": {
          "base_uri": "https://localhost:8080/"
        },
        "id": "tun2rRUx8v0-",
        "outputId": "8a7c314d-d7c3-40af-f364-d1a21b2dfecb"
      },
      "source": [
        "print((a*b)+(a/b))"
      ],
      "execution_count": null,
      "outputs": [
        {
          "output_type": "stream",
          "name": "stdout",
          "text": [
            "200.5\n"
          ]
        }
      ]
    },
    {
      "cell_type": "code",
      "metadata": {
        "colab": {
          "base_uri": "https://localhost:8080/"
        },
        "id": "QBelCIiG88gC",
        "outputId": "965d6983-2e46-4466-e7ca-2a5e84c07373"
      },
      "source": [
        "#write a program which accept principle, rate and time from user and print the simple intrest. the formula to calaculate simple intrest is: simple intrest = principle x rate x time/100\n",
        "\n",
        "p=float(input(\"enter the principl amount:\"))\n",
        "t=float(input(\"enter the number of years\"))\n",
        "r=float(input(\"enter the rate of interet\"))\n",
        "SI = (p*r*t)/100\n",
        "print(\"simple interest:{}\".format(SI))"
      ],
      "execution_count": null,
      "outputs": [
        {
          "output_type": "stream",
          "name": "stdout",
          "text": [
            "enter the principl amount:100\n",
            "enter the number of years5\n",
            "enter the rate of interet5\n",
            "simple interest:25.0\n"
          ]
        }
      ]
    },
    {
      "cell_type": "code",
      "metadata": {
        "id": "PSQwiZ7bAbDi"
      },
      "source": [
        ""
      ],
      "execution_count": null,
      "outputs": []
    },
    {
      "cell_type": "markdown",
      "metadata": {
        "id": "xT1SZSOECel2"
      },
      "source": [
        "# New section"
      ]
    }
  ]
}